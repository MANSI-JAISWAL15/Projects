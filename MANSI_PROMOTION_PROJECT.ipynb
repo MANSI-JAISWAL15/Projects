{
 "cells": [
  {
   "cell_type": "markdown",
   "metadata": {},
   "source": [
    "# PROMOTION ASSIGNMENT"
   ]
  },
  {
   "cell_type": "markdown",
   "metadata": {},
   "source": [
    "## IMPORTING LIBRARIES"
   ]
  },
  {
   "cell_type": "code",
   "execution_count": 1,
   "metadata": {},
   "outputs": [
    {
     "name": "stderr",
     "output_type": "stream",
     "text": [
      "D:\\anaconda\\lib\\site-packages\\sklearn\\ensemble\\weight_boosting.py:29: DeprecationWarning: numpy.core.umath_tests is an internal NumPy module and should not be imported. It will be removed in a future NumPy release.\n",
      "  from numpy.core.umath_tests import inner1d\n"
     ]
    }
   ],
   "source": [
    "import pandas as pd\n",
    "import numpy as np\n",
    "import matplotlib.pyplot as plt\n",
    "import seaborn as sns\n",
    "import warnings\n",
    "warnings.simplefilter(action='ignore', category=FutureWarning)\n",
    "\n",
    "from sklearn.preprocessing import StandardScaler\n",
    "from sklearn.model_selection import train_test_split\n",
    "from sklearn.model_selection import cross_val_score\n",
    "from sklearn.model_selection import RandomizedSearchCV\n",
    "from sklearn.model_selection import GridSearchCV\n",
    "from sklearn.metrics import confusion_matrix\n",
    "from sklearn.metrics import classification_report\n",
    "from sklearn.metrics import accuracy_score\n",
    "from sklearn.metrics import f1_score\n",
    "\n",
    "'MODELS'\n",
    "from sklearn.neighbors import KNeighborsClassifier\n",
    "from sklearn.linear_model import LogisticRegression\n",
    "from sklearn.tree import DecisionTreeClassifier\n",
    "from sklearn.ensemble import RandomForestClassifier\n",
    "from sklearn.ensemble import VotingClassifier\n",
    "from sklearn.ensemble import BaggingClassifier\n",
    "from sklearn.ensemble import AdaBoostClassifier"
   ]
  },
  {
   "cell_type": "markdown",
   "metadata": {},
   "source": [
    "## LOADING DATA"
   ]
  },
  {
   "cell_type": "code",
   "execution_count": 78,
   "metadata": {},
   "outputs": [],
   "source": [
    "df1=pd.read_csv('promotion_data.csv')\n",
    "df2=pd.read_csv('promotion_future_x.csv')\n",
    "\n",
    "df1=df1.drop(labels=['employee_id'], axis=1)\n",
    "df2=df2.drop(labels=['employee_id'], axis=1)"
   ]
  },
  {
   "cell_type": "markdown",
   "metadata": {},
   "source": [
    "## Getting information about the columns and its data types"
   ]
  },
  {
   "cell_type": "code",
   "execution_count": 79,
   "metadata": {},
   "outputs": [
    {
     "name": "stdout",
     "output_type": "stream",
     "text": [
      "<class 'pandas.core.frame.DataFrame'>\n",
      "RangeIndex: 43846 entries, 0 to 43845\n",
      "Data columns (total 13 columns):\n",
      "department              43846 non-null object\n",
      "region                  43846 non-null object\n",
      "education               41935 non-null object\n",
      "gender                  43846 non-null object\n",
      "recruitment_channel     43846 non-null object\n",
      "no_of_trainings         43846 non-null int64\n",
      "age                     43846 non-null int64\n",
      "previous_year_rating    40581 non-null float64\n",
      "length_of_service       43846 non-null int64\n",
      "KPIs_met >80%           43846 non-null int64\n",
      "awards_won?             43846 non-null int64\n",
      "avg_training_score      43846 non-null int64\n",
      "is_promoted             43846 non-null int64\n",
      "dtypes: float64(1), int64(7), object(5)\n",
      "memory usage: 4.3+ MB\n"
     ]
    }
   ],
   "source": [
    "df1.info()"
   ]
  },
  {
   "cell_type": "markdown",
   "metadata": {},
   "source": [
    "## Statistical measures of numeric columns"
   ]
  },
  {
   "cell_type": "code",
   "execution_count": 80,
   "metadata": {},
   "outputs": [
    {
     "data": {
      "text/html": [
       "<div>\n",
       "<style scoped>\n",
       "    .dataframe tbody tr th:only-of-type {\n",
       "        vertical-align: middle;\n",
       "    }\n",
       "\n",
       "    .dataframe tbody tr th {\n",
       "        vertical-align: top;\n",
       "    }\n",
       "\n",
       "    .dataframe thead th {\n",
       "        text-align: right;\n",
       "    }\n",
       "</style>\n",
       "<table border=\"1\" class=\"dataframe\">\n",
       "  <thead>\n",
       "    <tr style=\"text-align: right;\">\n",
       "      <th></th>\n",
       "      <th>no_of_trainings</th>\n",
       "      <th>age</th>\n",
       "      <th>previous_year_rating</th>\n",
       "      <th>length_of_service</th>\n",
       "      <th>KPIs_met &gt;80%</th>\n",
       "      <th>awards_won?</th>\n",
       "      <th>avg_training_score</th>\n",
       "      <th>is_promoted</th>\n",
       "    </tr>\n",
       "  </thead>\n",
       "  <tbody>\n",
       "    <tr>\n",
       "      <th>count</th>\n",
       "      <td>43846.000000</td>\n",
       "      <td>43846.000000</td>\n",
       "      <td>40581.000000</td>\n",
       "      <td>43846.000000</td>\n",
       "      <td>43846.000000</td>\n",
       "      <td>43846.000000</td>\n",
       "      <td>43846.000000</td>\n",
       "      <td>43846.000000</td>\n",
       "    </tr>\n",
       "    <tr>\n",
       "      <th>mean</th>\n",
       "      <td>1.254641</td>\n",
       "      <td>34.795717</td>\n",
       "      <td>3.326458</td>\n",
       "      <td>5.876910</td>\n",
       "      <td>0.352028</td>\n",
       "      <td>0.022921</td>\n",
       "      <td>63.414815</td>\n",
       "      <td>0.085162</td>\n",
       "    </tr>\n",
       "    <tr>\n",
       "      <th>std</th>\n",
       "      <td>0.610620</td>\n",
       "      <td>7.645751</td>\n",
       "      <td>1.261410</td>\n",
       "      <td>4.269378</td>\n",
       "      <td>0.477608</td>\n",
       "      <td>0.149654</td>\n",
       "      <td>13.378710</td>\n",
       "      <td>0.279125</td>\n",
       "    </tr>\n",
       "    <tr>\n",
       "      <th>min</th>\n",
       "      <td>1.000000</td>\n",
       "      <td>20.000000</td>\n",
       "      <td>1.000000</td>\n",
       "      <td>1.000000</td>\n",
       "      <td>0.000000</td>\n",
       "      <td>0.000000</td>\n",
       "      <td>39.000000</td>\n",
       "      <td>0.000000</td>\n",
       "    </tr>\n",
       "    <tr>\n",
       "      <th>25%</th>\n",
       "      <td>1.000000</td>\n",
       "      <td>29.000000</td>\n",
       "      <td>3.000000</td>\n",
       "      <td>3.000000</td>\n",
       "      <td>0.000000</td>\n",
       "      <td>0.000000</td>\n",
       "      <td>51.000000</td>\n",
       "      <td>0.000000</td>\n",
       "    </tr>\n",
       "    <tr>\n",
       "      <th>50%</th>\n",
       "      <td>1.000000</td>\n",
       "      <td>33.000000</td>\n",
       "      <td>3.000000</td>\n",
       "      <td>5.000000</td>\n",
       "      <td>0.000000</td>\n",
       "      <td>0.000000</td>\n",
       "      <td>60.000000</td>\n",
       "      <td>0.000000</td>\n",
       "    </tr>\n",
       "    <tr>\n",
       "      <th>75%</th>\n",
       "      <td>1.000000</td>\n",
       "      <td>39.000000</td>\n",
       "      <td>4.000000</td>\n",
       "      <td>7.000000</td>\n",
       "      <td>1.000000</td>\n",
       "      <td>0.000000</td>\n",
       "      <td>76.000000</td>\n",
       "      <td>0.000000</td>\n",
       "    </tr>\n",
       "    <tr>\n",
       "      <th>max</th>\n",
       "      <td>10.000000</td>\n",
       "      <td>60.000000</td>\n",
       "      <td>5.000000</td>\n",
       "      <td>37.000000</td>\n",
       "      <td>1.000000</td>\n",
       "      <td>1.000000</td>\n",
       "      <td>99.000000</td>\n",
       "      <td>1.000000</td>\n",
       "    </tr>\n",
       "  </tbody>\n",
       "</table>\n",
       "</div>"
      ],
      "text/plain": [
       "       no_of_trainings           age  previous_year_rating  length_of_service  \\\n",
       "count     43846.000000  43846.000000          40581.000000       43846.000000   \n",
       "mean          1.254641     34.795717              3.326458           5.876910   \n",
       "std           0.610620      7.645751              1.261410           4.269378   \n",
       "min           1.000000     20.000000              1.000000           1.000000   \n",
       "25%           1.000000     29.000000              3.000000           3.000000   \n",
       "50%           1.000000     33.000000              3.000000           5.000000   \n",
       "75%           1.000000     39.000000              4.000000           7.000000   \n",
       "max          10.000000     60.000000              5.000000          37.000000   \n",
       "\n",
       "       KPIs_met >80%   awards_won?  avg_training_score   is_promoted  \n",
       "count   43846.000000  43846.000000        43846.000000  43846.000000  \n",
       "mean        0.352028      0.022921           63.414815      0.085162  \n",
       "std         0.477608      0.149654           13.378710      0.279125  \n",
       "min         0.000000      0.000000           39.000000      0.000000  \n",
       "25%         0.000000      0.000000           51.000000      0.000000  \n",
       "50%         0.000000      0.000000           60.000000      0.000000  \n",
       "75%         1.000000      0.000000           76.000000      0.000000  \n",
       "max         1.000000      1.000000           99.000000      1.000000  "
      ]
     },
     "execution_count": 80,
     "metadata": {},
     "output_type": "execute_result"
    }
   ],
   "source": [
    "df1.describe()"
   ]
  },
  {
   "cell_type": "markdown",
   "metadata": {},
   "source": [
    "The standard deviation is maximum for average training score followed by age"
   ]
  },
  {
   "cell_type": "markdown",
   "metadata": {},
   "source": [
    "## To get the number of unique values in each column"
   ]
  },
  {
   "cell_type": "code",
   "execution_count": 81,
   "metadata": {},
   "outputs": [
    {
     "data": {
      "text/plain": [
       "department               9\n",
       "region                  34\n",
       "education                3\n",
       "gender                   2\n",
       "recruitment_channel      3\n",
       "no_of_trainings         10\n",
       "age                     41\n",
       "previous_year_rating     5\n",
       "length_of_service       35\n",
       "KPIs_met >80%            2\n",
       "awards_won?              2\n",
       "avg_training_score      61\n",
       "is_promoted              2\n",
       "dtype: int64"
      ]
     },
     "execution_count": 81,
     "metadata": {},
     "output_type": "execute_result"
    }
   ],
   "source": [
    "df1.nunique()"
   ]
  },
  {
   "cell_type": "markdown",
   "metadata": {},
   "source": [
    "We can infer that apart from the columns described as object type there are some other potential categorical columns such as awards_won and KPI,the previous rating could be another"
   ]
  },
  {
   "cell_type": "markdown",
   "metadata": {},
   "source": [
    "## To get the number of missing values in each column"
   ]
  },
  {
   "cell_type": "code",
   "execution_count": 82,
   "metadata": {},
   "outputs": [
    {
     "data": {
      "text/plain": [
       "department                 0\n",
       "region                     0\n",
       "education               1911\n",
       "gender                     0\n",
       "recruitment_channel        0\n",
       "no_of_trainings            0\n",
       "age                        0\n",
       "previous_year_rating    3265\n",
       "length_of_service          0\n",
       "KPIs_met >80%              0\n",
       "awards_won?                0\n",
       "avg_training_score         0\n",
       "is_promoted                0\n",
       "dtype: int64"
      ]
     },
     "execution_count": 82,
     "metadata": {},
     "output_type": "execute_result"
    }
   ],
   "source": [
    "df1.isna().sum()"
   ]
  },
  {
   "cell_type": "markdown",
   "metadata": {},
   "source": [
    "## Information about target variable"
   ]
  },
  {
   "cell_type": "code",
   "execution_count": 83,
   "metadata": {},
   "outputs": [
    {
     "data": {
      "text/plain": [
       "0    40112\n",
       "1     3734\n",
       "Name: is_promoted, dtype: int64"
      ]
     },
     "execution_count": 83,
     "metadata": {},
     "output_type": "execute_result"
    }
   ],
   "source": [
    "df1.is_promoted.value_counts()"
   ]
  },
  {
   "cell_type": "markdown",
   "metadata": {},
   "source": [
    "We observe that the target variable is highly disbalanced"
   ]
  },
  {
   "cell_type": "code",
   "execution_count": 84,
   "metadata": {},
   "outputs": [
    {
     "data": {
      "image/png": "[encoded data removed]",
      "text/plain": [
       "<Figure size 432x288 with 1 Axes>"
      ]
     },
     "metadata": {
      "needs_background": "light"
     },
     "output_type": "display_data"
    }
   ],
   "source": [
    "df1.is_promoted.value_counts().plot(kind=\"bar\")\n",
    "plt.xlabel(\"is_promoted\")\n",
    "plt.ylabel(\"freq\")\n",
    "plt.title(\"Bar chart\")\n",
    "plt.show()"
   ]
  },
  {
   "cell_type": "markdown",
   "metadata": {},
   "source": [
    "__Identifying important features__"
   ]
  },
  {
   "cell_type": "code",
   "execution_count": 85,
   "metadata": {},
   "outputs": [
    {
     "name": "stdout",
     "output_type": "stream",
     "text": [
      "DEPARTMENT\n"
     ]
    },
    {
     "data": {
      "image/png": "[encoded data removed]",
      "text/plain": [
       "<Figure size 432x288 with 1 Axes>"
      ]
     },
     "metadata": {
      "needs_background": "light"
     },
     "output_type": "display_data"
    },
    {
     "name": "stdout",
     "output_type": "stream",
     "text": [
      "\n",
      "\n",
      "REGION\n"
     ]
    },
    {
     "data": {
      "image/png": "[encoded data removed]",
      "text/plain": [
       "<Figure size 432x288 with 1 Axes>"
      ]
     },
     "metadata": {
      "needs_background": "light"
     },
     "output_type": "display_data"
    },
    {
     "name": "stdout",
     "output_type": "stream",
     "text": [
      "\n",
      "\n",
      "EDUCATION\n"
     ]
    },
    {
     "data": {
      "image/png": "[encoded data removed]",
      "text/plain": [
       "<Figure size 432x288 with 1 Axes>"
      ]
     },
     "metadata": {
      "needs_background": "light"
     },
     "output_type": "display_data"
    },
    {
     "name": "stdout",
     "output_type": "stream",
     "text": [
      "\n",
      "\n",
      "GENDER\n"
     ]
    },
    {
     "data": {
      "image/png": "[encoded data removed]",
      "text/plain": [
       "<Figure size 432x288 with 1 Axes>"
      ]
     },
     "metadata": {
      "needs_background": "light"
     },
     "output_type": "display_data"
    },
    {
     "name": "stdout",
     "output_type": "stream",
     "text": [
      "\n",
      "\n",
      "RECRUITMENT_CHANNEL\n"
     ]
    },
    {
     "data": {
      "image/png": "[encoded data removed]",
      "text/plain": [
       "<Figure size 432x288 with 1 Axes>"
      ]
     },
     "metadata": {
      "needs_background": "light"
     },
     "output_type": "display_data"
    },
    {
     "name": "stdout",
     "output_type": "stream",
     "text": [
      "\n",
      "\n",
      "NO_OF_TRAININGS\n"
     ]
    },
    {
     "data": {
      "image/png": "[encoded data removed]",
      "text/plain": [
       "<Figure size 432x288 with 1 Axes>"
      ]
     },
     "metadata": {
      "needs_background": "light"
     },
     "output_type": "display_data"
    },
    {
     "name": "stdout",
     "output_type": "stream",
     "text": [
      "\n",
      "\n",
      "AGE\n"
     ]
    },
    {
     "data": {
      "image/png": "[encoded data removed]",
      "text/plain": [
       "<Figure size 432x288 with 1 Axes>"
      ]
     },
     "metadata": {
      "needs_background": "light"
     },
     "output_type": "display_data"
    },
    {
     "name": "stdout",
     "output_type": "stream",
     "text": [
      "\n",
      "\n",
      "PREVIOUS_YEAR_RATING\n"
     ]
    },
    {
     "data": {
      "image/png": "[encoded data removed]",
      "text/plain": [
       "<Figure size 432x288 with 1 Axes>"
      ]
     },
     "metadata": {
      "needs_background": "light"
     },
     "output_type": "display_data"
    },
    {
     "name": "stdout",
     "output_type": "stream",
     "text": [
      "\n",
      "\n",
      "LENGTH_OF_SERVICE\n"
     ]
    },
    {
     "data": {
      "image/png": "[encoded data removed]",
      "text/plain": [
       "<Figure size 432x288 with 1 Axes>"
      ]
     },
     "metadata": {
      "needs_background": "light"
     },
     "output_type": "display_data"
    },
    {
     "name": "stdout",
     "output_type": "stream",
     "text": [
      "\n",
      "\n",
      "KPIS_MET >80%\n"
     ]
    },
    {
     "data": {
      "image/png": "[encoded data removed]",
      "text/plain": [
       "<Figure size 432x288 with 1 Axes>"
      ]
     },
     "metadata": {
      "needs_background": "light"
     },
     "output_type": "display_data"
    },
    {
     "name": "stdout",
     "output_type": "stream",
     "text": [
      "\n",
      "\n",
      "AWARDS_WON?\n"
     ]
    },
    {
     "data": {
      "image/png": "[encoded data removed]",
      "text/plain": [
       "<Figure size 432x288 with 1 Axes>"
      ]
     },
     "metadata": {
      "needs_background": "light"
     },
     "output_type": "display_data"
    },
    {
     "name": "stdout",
     "output_type": "stream",
     "text": [
      "\n",
      "\n",
      "AVG_TRAINING_SCORE\n"
     ]
    },
    {
     "data": {
      "image/png": "[encoded data removed]",
      "text/plain": [
       "<Figure size 432x288 with 1 Axes>"
      ]
     },
     "metadata": {
      "needs_background": "light"
     },
     "output_type": "display_data"
    },
    {
     "name": "stdout",
     "output_type": "stream",
     "text": [
      "\n",
      "\n"
     ]
    }
   ],
   "source": [
    "col=df1.columns[:-1]\n",
    "for x in col:\n",
    "    print(x.upper())\n",
    "    pd.crosstab(df1[x], df1.is_promoted, normalize='index').plot(kind='bar')\n",
    "    plt.xticks(rotation=90)\n",
    "    plt.show()\n",
    "    print('\\n')"
   ]
  },
  {
   "cell_type": "markdown",
   "metadata": {},
   "source": [
    "### Important features and Insights\n",
    "['department', 'region', 'education', 'gender', 'recruitment_channel', 'no_of_trainings', 'age', 'previous_year_rating', 'length_of_service', 'KPIs_met >80%', 'awards_won?', 'avg_training_score', 'is_promoted']\n",
    "\n",
    "* 'avg_training_score' - May be an exponential relation with is_promoted\n",
    "* 'awards_won?' - Greater % of people who won an award got promoted\n",
    "* 'KPIs_met >80%' - Greater % of people who met the criterion got promoted\n",
    "* 'previous_year_rating' - Appears to be a strong linear relationship wrt is_promoted\n",
    "* 'no_of_trainings'- Weak inversely proportional relationship\n",
    "* 'recruitment_channel'- Strong preference for reffered\n",
    "* 'gender'-Almost the same no. of male and females got promoted\n",
    "* 'education'- Strong preferece for Master's and above'\n",
    "* 'region'- different values for different regions, but are they statistically significant\n",
    "* 'department'- different values for different regions, but are they statistically significant"
   ]
  },
  {
   "cell_type": "markdown",
   "metadata": {},
   "source": [
    "### Using crosstab for finding relationship between promotion,rating and awards won"
   ]
  },
  {
   "cell_type": "code",
   "execution_count": 28,
   "metadata": {},
   "outputs": [
    {
     "data": {
      "text/html": [
       "<div>\n",
       "<style scoped>\n",
       "    .dataframe tbody tr th:only-of-type {\n",
       "        vertical-align: middle;\n",
       "    }\n",
       "\n",
       "    .dataframe tbody tr th {\n",
       "        vertical-align: top;\n",
       "    }\n",
       "\n",
       "    .dataframe thead tr th {\n",
       "        text-align: left;\n",
       "    }\n",
       "\n",
       "    .dataframe thead tr:last-of-type th {\n",
       "        text-align: right;\n",
       "    }\n",
       "</style>\n",
       "<table border=\"1\" class=\"dataframe\">\n",
       "  <thead>\n",
       "    <tr>\n",
       "      <th>awards_won?</th>\n",
       "      <th colspan=\"5\" halign=\"left\">0</th>\n",
       "      <th colspan=\"5\" halign=\"left\">1</th>\n",
       "    </tr>\n",
       "    <tr>\n",
       "      <th>previous_year_rating</th>\n",
       "      <th>1.0</th>\n",
       "      <th>2.0</th>\n",
       "      <th>3.0</th>\n",
       "      <th>4.0</th>\n",
       "      <th>5.0</th>\n",
       "      <th>1.0</th>\n",
       "      <th>2.0</th>\n",
       "      <th>3.0</th>\n",
       "      <th>4.0</th>\n",
       "      <th>5.0</th>\n",
       "    </tr>\n",
       "    <tr>\n",
       "      <th>is_promoted</th>\n",
       "      <th></th>\n",
       "      <th></th>\n",
       "      <th></th>\n",
       "      <th></th>\n",
       "      <th></th>\n",
       "      <th></th>\n",
       "      <th></th>\n",
       "      <th></th>\n",
       "      <th></th>\n",
       "      <th></th>\n",
       "    </tr>\n",
       "  </thead>\n",
       "  <tbody>\n",
       "    <tr>\n",
       "      <th>0</th>\n",
       "      <td>0.987206</td>\n",
       "      <td>0.961825</td>\n",
       "      <td>0.933636</td>\n",
       "      <td>0.928045</td>\n",
       "      <td>0.85342</td>\n",
       "      <td>0.858824</td>\n",
       "      <td>0.758621</td>\n",
       "      <td>0.571885</td>\n",
       "      <td>0.577778</td>\n",
       "      <td>0.364261</td>\n",
       "    </tr>\n",
       "    <tr>\n",
       "      <th>1</th>\n",
       "      <td>0.012794</td>\n",
       "      <td>0.038175</td>\n",
       "      <td>0.066364</td>\n",
       "      <td>0.071955</td>\n",
       "      <td>0.14658</td>\n",
       "      <td>0.141176</td>\n",
       "      <td>0.241379</td>\n",
       "      <td>0.428115</td>\n",
       "      <td>0.422222</td>\n",
       "      <td>0.635739</td>\n",
       "    </tr>\n",
       "  </tbody>\n",
       "</table>\n",
       "</div>"
      ],
      "text/plain": [
       "awards_won?                  0                                         \\\n",
       "previous_year_rating       1.0       2.0       3.0       4.0      5.0   \n",
       "is_promoted                                                             \n",
       "0                     0.987206  0.961825  0.933636  0.928045  0.85342   \n",
       "1                     0.012794  0.038175  0.066364  0.071955  0.14658   \n",
       "\n",
       "awards_won?                  1                                          \n",
       "previous_year_rating       1.0       2.0       3.0       4.0       5.0  \n",
       "is_promoted                                                             \n",
       "0                     0.858824  0.758621  0.571885  0.577778  0.364261  \n",
       "1                     0.141176  0.241379  0.428115  0.422222  0.635739  "
      ]
     },
     "execution_count": 28,
     "metadata": {},
     "output_type": "execute_result"
    }
   ],
   "source": [
    "pd.crosstab(df1.is_promoted,[df1[\"awards_won?\"],df1[\"previous_year_rating\"]],normalize=\"columns\")"
   ]
  },
  {
   "cell_type": "markdown",
   "metadata": {},
   "source": [
    "A larger proportion of people who won an award and had a rating of 5 got promoted."
   ]
  },
  {
   "cell_type": "markdown",
   "metadata": {},
   "source": [
    "## SEPARATING THE TARGET VARIABLE AND COMBINING THE 2 DATASETS"
   ]
  },
  {
   "cell_type": "code",
   "execution_count": 19,
   "metadata": {},
   "outputs": [
    {
     "data": {
      "text/html": [
       "<div>\n",
       "<style scoped>\n",
       "    .dataframe tbody tr th:only-of-type {\n",
       "        vertical-align: middle;\n",
       "    }\n",
       "\n",
       "    .dataframe tbody tr th {\n",
       "        vertical-align: top;\n",
       "    }\n",
       "\n",
       "    .dataframe thead th {\n",
       "        text-align: right;\n",
       "    }\n",
       "</style>\n",
       "<table border=\"1\" class=\"dataframe\">\n",
       "  <thead>\n",
       "    <tr style=\"text-align: right;\">\n",
       "      <th></th>\n",
       "      <th>department</th>\n",
       "      <th>region</th>\n",
       "      <th>education</th>\n",
       "      <th>gender</th>\n",
       "      <th>recruitment_channel</th>\n",
       "      <th>no_of_trainings</th>\n",
       "      <th>age</th>\n",
       "      <th>previous_year_rating</th>\n",
       "      <th>length_of_service</th>\n",
       "      <th>KPIs_met &gt;80%</th>\n",
       "      <th>awards_won?</th>\n",
       "      <th>avg_training_score</th>\n",
       "    </tr>\n",
       "  </thead>\n",
       "  <tbody>\n",
       "    <tr>\n",
       "      <th>10957</th>\n",
       "      <td>Analytics</td>\n",
       "      <td>region_2</td>\n",
       "      <td>Master's &amp; above</td>\n",
       "      <td>m</td>\n",
       "      <td>other</td>\n",
       "      <td>1</td>\n",
       "      <td>51</td>\n",
       "      <td>5.0</td>\n",
       "      <td>6</td>\n",
       "      <td>1</td>\n",
       "      <td>0</td>\n",
       "      <td>81</td>\n",
       "    </tr>\n",
       "    <tr>\n",
       "      <th>10958</th>\n",
       "      <td>Operations</td>\n",
       "      <td>region_22</td>\n",
       "      <td>Bachelor's</td>\n",
       "      <td>m</td>\n",
       "      <td>sourcing</td>\n",
       "      <td>1</td>\n",
       "      <td>28</td>\n",
       "      <td>NaN</td>\n",
       "      <td>1</td>\n",
       "      <td>1</td>\n",
       "      <td>0</td>\n",
       "      <td>63</td>\n",
       "    </tr>\n",
       "    <tr>\n",
       "      <th>10959</th>\n",
       "      <td>Operations</td>\n",
       "      <td>region_11</td>\n",
       "      <td>Master's &amp; above</td>\n",
       "      <td>m</td>\n",
       "      <td>other</td>\n",
       "      <td>1</td>\n",
       "      <td>36</td>\n",
       "      <td>3.0</td>\n",
       "      <td>3</td>\n",
       "      <td>0</td>\n",
       "      <td>0</td>\n",
       "      <td>59</td>\n",
       "    </tr>\n",
       "    <tr>\n",
       "      <th>10960</th>\n",
       "      <td>Sales &amp; Marketing</td>\n",
       "      <td>region_2</td>\n",
       "      <td>Master's &amp; above</td>\n",
       "      <td>m</td>\n",
       "      <td>other</td>\n",
       "      <td>1</td>\n",
       "      <td>36</td>\n",
       "      <td>3.0</td>\n",
       "      <td>2</td>\n",
       "      <td>1</td>\n",
       "      <td>0</td>\n",
       "      <td>55</td>\n",
       "    </tr>\n",
       "    <tr>\n",
       "      <th>10961</th>\n",
       "      <td>Procurement</td>\n",
       "      <td>region_29</td>\n",
       "      <td>Master's &amp; above</td>\n",
       "      <td>m</td>\n",
       "      <td>sourcing</td>\n",
       "      <td>1</td>\n",
       "      <td>37</td>\n",
       "      <td>4.0</td>\n",
       "      <td>8</td>\n",
       "      <td>0</td>\n",
       "      <td>0</td>\n",
       "      <td>68</td>\n",
       "    </tr>\n",
       "  </tbody>\n",
       "</table>\n",
       "</div>"
      ],
      "text/plain": [
       "              department     region         education gender  \\\n",
       "10957          Analytics   region_2  Master's & above      m   \n",
       "10958         Operations  region_22        Bachelor's      m   \n",
       "10959         Operations  region_11  Master's & above      m   \n",
       "10960  Sales & Marketing   region_2  Master's & above      m   \n",
       "10961        Procurement  region_29  Master's & above      m   \n",
       "\n",
       "      recruitment_channel  no_of_trainings  age  previous_year_rating  \\\n",
       "10957               other                1   51                   5.0   \n",
       "10958            sourcing                1   28                   NaN   \n",
       "10959               other                1   36                   3.0   \n",
       "10960               other                1   36                   3.0   \n",
       "10961            sourcing                1   37                   4.0   \n",
       "\n",
       "       length_of_service  KPIs_met >80%  awards_won?  avg_training_score  \n",
       "10957                  6              1            0                  81  \n",
       "10958                  1              1            0                  63  \n",
       "10959                  3              0            0                  59  \n",
       "10960                  2              1            0                  55  \n",
       "10961                  8              0            0                  68  "
      ]
     },
     "execution_count": 19,
     "metadata": {},
     "output_type": "execute_result"
    }
   ],
   "source": [
    "y = df1.is_promoted\n",
    "df1.drop('is_promoted', axis=1, inplace=True)\n",
    "master = pd.concat([df1,df2])\n",
    "master.tail()"
   ]
  },
  {
   "cell_type": "markdown",
   "metadata": {},
   "source": [
    "## Replacing na values in columns previous_year_rating by its mean and education by no record"
   ]
  },
  {
   "cell_type": "code",
   "execution_count": 20,
   "metadata": {},
   "outputs": [],
   "source": [
    "master.previous_year_rating.fillna(df1.previous_year_rating.mean(), inplace=True)"
   ]
  },
  {
   "cell_type": "code",
   "execution_count": 21,
   "metadata": {},
   "outputs": [
    {
     "data": {
      "image/png": "[encoded data removed]",
      "text/plain": [
       "<Figure size 432x288 with 1 Axes>"
      ]
     },
     "metadata": {
      "needs_background": "light"
     },
     "output_type": "display_data"
    }
   ],
   "source": [
    "df1.education.fillna(value='NoRecord', inplace=True)\n",
    "pd.crosstab(df1.education,y, normalize='index').plot(kind='bar')\n",
    "plt.show()"
   ]
  },
  {
   "cell_type": "markdown",
   "metadata": {},
   "source": [
    "__It appears that promotion rate for NA values is below the promotion rate of other education levels. It could be that No records suggest a lower level of education than is suggested in the below secondary label__"
   ]
  },
  {
   "cell_type": "code",
   "execution_count": 22,
   "metadata": {},
   "outputs": [],
   "source": [
    "master.education.fillna(value='NoRecord', inplace=True)"
   ]
  },
  {
   "cell_type": "markdown",
   "metadata": {},
   "source": [
    "## Feature engineering"
   ]
  },
  {
   "cell_type": "code",
   "execution_count": 34,
   "metadata": {},
   "outputs": [],
   "source": [
    "Selected_features=['avg_training_score', 'KPIs_met >80%', 'department', 'previous_year_rating', 'awards_won?', 'age', 'length_of_service', 'recruitment_channel', 'no_of_trainings', 'region', 'education']\n",
    "master=master[Selected_features]\n",
    "\n",
    "master['Outstanding_score']= (master.avg_training_score>93)*1\n",
    "master['Working_age']= np.logical_and((master.age>26), (master.age<45))*1\n",
    "master['work_fraction'] = master['length_of_service'] / master['age']\n",
    "master['start_age'] = master['age'] - master['length_of_service']\n",
    "master[\"low_promotion_chance\"]=np.logical_and((master.no_of_trainings>6),(master.no_of_trainings<=10))*1\n",
    "master[\"high_promotion_chance\"]=np.logical_and((master.previous_year_rating==5),(master[\"awards_won?\"]==1))*1"
   ]
  },
  {
   "cell_type": "code",
   "execution_count": 35,
   "metadata": {},
   "outputs": [
    {
     "name": "stdout",
     "output_type": "stream",
     "text": [
      "<class 'pandas.core.frame.DataFrame'>\n",
      "Int64Index: 54808 entries, 0 to 10961\n",
      "Data columns (total 17 columns):\n",
      "avg_training_score       54808 non-null int64\n",
      "KPIs_met >80%            54808 non-null int64\n",
      "department               54808 non-null category\n",
      "previous_year_rating     54808 non-null float64\n",
      "awards_won?              54808 non-null int64\n",
      "age                      54808 non-null int64\n",
      "length_of_service        54808 non-null int64\n",
      "recruitment_channel      54808 non-null category\n",
      "no_of_trainings          54808 non-null int64\n",
      "region                   54808 non-null category\n",
      "education                54808 non-null category\n",
      "Outstanding_score        54808 non-null int32\n",
      "Working_age              54808 non-null int32\n",
      "work_fraction            54808 non-null float64\n",
      "start_age                54808 non-null int64\n",
      "low_promotion_chance     54808 non-null int32\n",
      "high_promotion_chance    54808 non-null int32\n",
      "dtypes: category(4), float64(2), int32(4), int64(7)\n",
      "memory usage: 5.2 MB\n"
     ]
    }
   ],
   "source": [
    "master.info()"
   ]
  },
  {
   "cell_type": "markdown",
   "metadata": {},
   "source": [
    "## Converting some variables into category"
   ]
  },
  {
   "cell_type": "code",
   "execution_count": 36,
   "metadata": {},
   "outputs": [
    {
     "name": "stdout",
     "output_type": "stream",
     "text": [
      "<class 'pandas.core.frame.DataFrame'>\n",
      "Int64Index: 54808 entries, 0 to 10961\n",
      "Data columns (total 17 columns):\n",
      "avg_training_score       54808 non-null int64\n",
      "KPIs_met >80%            54808 non-null int64\n",
      "department               54808 non-null category\n",
      "previous_year_rating     54808 non-null float64\n",
      "awards_won?              54808 non-null int64\n",
      "age                      54808 non-null int64\n",
      "length_of_service        54808 non-null int64\n",
      "recruitment_channel      54808 non-null category\n",
      "no_of_trainings          54808 non-null int64\n",
      "region                   54808 non-null category\n",
      "education                54808 non-null category\n",
      "Outstanding_score        54808 non-null int32\n",
      "Working_age              54808 non-null int32\n",
      "work_fraction            54808 non-null float64\n",
      "start_age                54808 non-null int64\n",
      "low_promotion_chance     54808 non-null int32\n",
      "high_promotion_chance    54808 non-null int32\n",
      "dtypes: category(4), float64(2), int32(4), int64(7)\n",
      "memory usage: 5.2 MB\n"
     ]
    }
   ],
   "source": [
    "master.department= master.department.astype('category')\n",
    "master.recruitment_channel= master.recruitment_channel.astype('category')\n",
    "master.region= master.region.astype('category')\n",
    "master.education= master.education.astype('category')\n",
    "master.info()"
   ]
  },
  {
   "cell_type": "markdown",
   "metadata": {},
   "source": [
    "## Getting dummies for logistic regression model"
   ]
  },
  {
   "cell_type": "code",
   "execution_count": 38,
   "metadata": {},
   "outputs": [],
   "source": [
    "master_lin = pd.get_dummies(master, drop_first=True)"
   ]
  },
  {
   "cell_type": "code",
   "execution_count": 39,
   "metadata": {},
   "outputs": [
    {
     "data": {
      "text/html": [
       "<div>\n",
       "<style scoped>\n",
       "    .dataframe tbody tr th:only-of-type {\n",
       "        vertical-align: middle;\n",
       "    }\n",
       "\n",
       "    .dataframe tbody tr th {\n",
       "        vertical-align: top;\n",
       "    }\n",
       "\n",
       "    .dataframe thead th {\n",
       "        text-align: right;\n",
       "    }\n",
       "</style>\n",
       "<table border=\"1\" class=\"dataframe\">\n",
       "  <thead>\n",
       "    <tr style=\"text-align: right;\">\n",
       "      <th></th>\n",
       "      <th>avg_training_score</th>\n",
       "      <th>KPIs_met &gt;80%</th>\n",
       "      <th>previous_year_rating</th>\n",
       "      <th>awards_won?</th>\n",
       "      <th>age</th>\n",
       "      <th>length_of_service</th>\n",
       "      <th>no_of_trainings</th>\n",
       "      <th>Outstanding_score</th>\n",
       "      <th>Working_age</th>\n",
       "      <th>work_fraction</th>\n",
       "      <th>...</th>\n",
       "      <th>region_region_34</th>\n",
       "      <th>region_region_4</th>\n",
       "      <th>region_region_5</th>\n",
       "      <th>region_region_6</th>\n",
       "      <th>region_region_7</th>\n",
       "      <th>region_region_8</th>\n",
       "      <th>region_region_9</th>\n",
       "      <th>education_Below Secondary</th>\n",
       "      <th>education_Master's &amp; above</th>\n",
       "      <th>education_NoRecord</th>\n",
       "    </tr>\n",
       "  </thead>\n",
       "  <tbody>\n",
       "    <tr>\n",
       "      <th>0</th>\n",
       "      <td>47</td>\n",
       "      <td>0</td>\n",
       "      <td>4.0</td>\n",
       "      <td>0</td>\n",
       "      <td>25</td>\n",
       "      <td>3</td>\n",
       "      <td>1</td>\n",
       "      <td>0</td>\n",
       "      <td>0</td>\n",
       "      <td>0.120000</td>\n",
       "      <td>...</td>\n",
       "      <td>0</td>\n",
       "      <td>0</td>\n",
       "      <td>0</td>\n",
       "      <td>0</td>\n",
       "      <td>0</td>\n",
       "      <td>0</td>\n",
       "      <td>0</td>\n",
       "      <td>0</td>\n",
       "      <td>0</td>\n",
       "      <td>0</td>\n",
       "    </tr>\n",
       "    <tr>\n",
       "      <th>1</th>\n",
       "      <td>60</td>\n",
       "      <td>1</td>\n",
       "      <td>5.0</td>\n",
       "      <td>0</td>\n",
       "      <td>39</td>\n",
       "      <td>7</td>\n",
       "      <td>1</td>\n",
       "      <td>0</td>\n",
       "      <td>1</td>\n",
       "      <td>0.179487</td>\n",
       "      <td>...</td>\n",
       "      <td>0</td>\n",
       "      <td>0</td>\n",
       "      <td>0</td>\n",
       "      <td>0</td>\n",
       "      <td>0</td>\n",
       "      <td>0</td>\n",
       "      <td>0</td>\n",
       "      <td>0</td>\n",
       "      <td>1</td>\n",
       "      <td>0</td>\n",
       "    </tr>\n",
       "    <tr>\n",
       "      <th>2</th>\n",
       "      <td>84</td>\n",
       "      <td>1</td>\n",
       "      <td>3.0</td>\n",
       "      <td>0</td>\n",
       "      <td>30</td>\n",
       "      <td>2</td>\n",
       "      <td>1</td>\n",
       "      <td>0</td>\n",
       "      <td>1</td>\n",
       "      <td>0.066667</td>\n",
       "      <td>...</td>\n",
       "      <td>0</td>\n",
       "      <td>0</td>\n",
       "      <td>0</td>\n",
       "      <td>0</td>\n",
       "      <td>0</td>\n",
       "      <td>0</td>\n",
       "      <td>0</td>\n",
       "      <td>0</td>\n",
       "      <td>0</td>\n",
       "      <td>0</td>\n",
       "    </tr>\n",
       "    <tr>\n",
       "      <th>3</th>\n",
       "      <td>60</td>\n",
       "      <td>0</td>\n",
       "      <td>5.0</td>\n",
       "      <td>0</td>\n",
       "      <td>39</td>\n",
       "      <td>8</td>\n",
       "      <td>2</td>\n",
       "      <td>0</td>\n",
       "      <td>1</td>\n",
       "      <td>0.205128</td>\n",
       "      <td>...</td>\n",
       "      <td>0</td>\n",
       "      <td>0</td>\n",
       "      <td>0</td>\n",
       "      <td>0</td>\n",
       "      <td>0</td>\n",
       "      <td>0</td>\n",
       "      <td>0</td>\n",
       "      <td>0</td>\n",
       "      <td>0</td>\n",
       "      <td>0</td>\n",
       "    </tr>\n",
       "    <tr>\n",
       "      <th>4</th>\n",
       "      <td>69</td>\n",
       "      <td>1</td>\n",
       "      <td>3.0</td>\n",
       "      <td>0</td>\n",
       "      <td>32</td>\n",
       "      <td>7</td>\n",
       "      <td>1</td>\n",
       "      <td>0</td>\n",
       "      <td>1</td>\n",
       "      <td>0.218750</td>\n",
       "      <td>...</td>\n",
       "      <td>0</td>\n",
       "      <td>0</td>\n",
       "      <td>0</td>\n",
       "      <td>0</td>\n",
       "      <td>0</td>\n",
       "      <td>0</td>\n",
       "      <td>0</td>\n",
       "      <td>0</td>\n",
       "      <td>0</td>\n",
       "      <td>0</td>\n",
       "    </tr>\n",
       "  </tbody>\n",
       "</table>\n",
       "<p>5 rows × 59 columns</p>\n",
       "</div>"
      ],
      "text/plain": [
       "   avg_training_score  KPIs_met >80%  previous_year_rating  awards_won?  age  \\\n",
       "0                  47              0                   4.0            0   25   \n",
       "1                  60              1                   5.0            0   39   \n",
       "2                  84              1                   3.0            0   30   \n",
       "3                  60              0                   5.0            0   39   \n",
       "4                  69              1                   3.0            0   32   \n",
       "\n",
       "   length_of_service  no_of_trainings  Outstanding_score  Working_age  \\\n",
       "0                  3                1                  0            0   \n",
       "1                  7                1                  0            1   \n",
       "2                  2                1                  0            1   \n",
       "3                  8                2                  0            1   \n",
       "4                  7                1                  0            1   \n",
       "\n",
       "   work_fraction  ...  region_region_34  region_region_4  region_region_5  \\\n",
       "0       0.120000  ...                 0                0                0   \n",
       "1       0.179487  ...                 0                0                0   \n",
       "2       0.066667  ...                 0                0                0   \n",
       "3       0.205128  ...                 0                0                0   \n",
       "4       0.218750  ...                 0                0                0   \n",
       "\n",
       "   region_region_6  region_region_7  region_region_8  region_region_9  \\\n",
       "0                0                0                0                0   \n",
       "1                0                0                0                0   \n",
       "2                0                0                0                0   \n",
       "3                0                0                0                0   \n",
       "4                0                0                0                0   \n",
       "\n",
       "   education_Below Secondary  education_Master's & above  education_NoRecord  \n",
       "0                          0                           0                   0  \n",
       "1                          0                           1                   0  \n",
       "2                          0                           0                   0  \n",
       "3                          0                           0                   0  \n",
       "4                          0                           0                   0  \n",
       "\n",
       "[5 rows x 59 columns]"
      ]
     },
     "execution_count": 39,
     "metadata": {},
     "output_type": "execute_result"
    }
   ],
   "source": [
    "master_lin.head()"
   ]
  },
  {
   "cell_type": "markdown",
   "metadata": {},
   "source": [
    "## HEATMAP"
   ]
  },
  {
   "cell_type": "code",
   "execution_count": 40,
   "metadata": {},
   "outputs": [
    {
     "data": {
      "image/png": "[encoded data removed]",
      "text/plain": [
       "<Figure size 1080x1080 with 2 Axes>"
      ]
     },
     "metadata": {
      "needs_background": "light"
     },
     "output_type": "display_data"
    }
   ],
   "source": [
    "plt.figure(figsize=(15,15))\n",
    "sns.heatmap(master.corr(),annot=True,linewidth=0.6,cmap=\"RdBu_r\")\n",
    "plt.show()"
   ]
  },
  {
   "cell_type": "markdown",
   "metadata": {},
   "source": [
    "## DIVIDING THE 2 DATAFRAMES"
   ]
  },
  {
   "cell_type": "code",
   "execution_count": 41,
   "metadata": {},
   "outputs": [],
   "source": [
    "past_lin = master_lin.iloc[:43846]\n",
    "fut_lin = master_lin.iloc[43846:]\n",
    "\n",
    "past_nonlin = master.iloc[:43846]\n",
    "fut_nonlin = master.iloc[43846:]"
   ]
  },
  {
   "cell_type": "markdown",
   "metadata": {},
   "source": [
    "## LOGISTIC REGRESSION MODEL"
   ]
  },
  {
   "cell_type": "code",
   "execution_count": 43,
   "metadata": {},
   "outputs": [
    {
     "name": "stdout",
     "output_type": "stream",
     "text": [
      "{'C': 10000, 'class_weight': {0: 0.35, 1: 0.75}, 'penalty': 'l2'}\n",
      "0.44175429874034183\n",
      "Wall time: 13min 18s\n"
     ]
    }
   ],
   "source": [
    "%%time\n",
    "logreg=LogisticRegression()\n",
    "param_grid = {'C': [1000,10000,100000,1000000], 'penalty':['l2', 'l1'],\"class_weight\":[{0:0.45,1:0.5},{0:0.35,1:0.75},{0:0.5,1:0.7}]}\n",
    "logreg_cv=GridSearchCV(logreg, param_grid, cv=5,  n_jobs=-1,scoring=\"f1\")\n",
    "logreg_cv.fit(past_lin,y)\n",
    "print(logreg_cv.best_params_)\n",
    "print(logreg_cv.best_score_)"
   ]
  },
  {
   "cell_type": "markdown",
   "metadata": {},
   "source": [
    "### Converting categories into codes"
   ]
  },
  {
   "cell_type": "code",
   "execution_count": 91,
   "metadata": {},
   "outputs": [
    {
     "name": "stderr",
     "output_type": "stream",
     "text": [
      "D:\\anaconda\\lib\\site-packages\\pandas\\core\\generic.py:5096: SettingWithCopyWarning: \n",
      "A value is trying to be set on a copy of a slice from a DataFrame.\n",
      "Try using .loc[row_indexer,col_indexer] = value instead\n",
      "\n",
      "See the caveats in the documentation: http://pandas.pydata.org/pandas-docs/stable/indexing.html#indexing-view-versus-copy\n",
      "  self[name] = value\n"
     ]
    }
   ],
   "source": [
    "past_nonlin.department=pd.Categorical(past_nonlin.department).codes\n",
    "past_nonlin.recruitment_channel=pd.Categorical(past_nonlin.recruitment_channel).codes\n",
    "past_nonlin.region=pd.Categorical(past_nonlin.region).codes\n",
    "past_nonlin.education=pd.Categorical(past_nonlin.education).codes\n",
    "fut_nonlin.department=pd.Categorical(fut_nonlin.department).codes\n",
    "fut_nonlin.recruitment_channel=pd.Categorical(fut_nonlin.recruitment_channel).codes\n",
    "fut_nonlin.region=pd.Categorical(fut_nonlin.region).codes\n",
    "fut_nonlin.education=pd.Categorical(fut_nonlin.education).codes"
   ]
  },
  {
   "cell_type": "markdown",
   "metadata": {},
   "source": [
    "## RANDOM FOREST MODEL"
   ]
  },
  {
   "cell_type": "code",
   "execution_count": 46,
   "metadata": {},
   "outputs": [
    {
     "name": "stdout",
     "output_type": "stream",
     "text": [
      "{'min_samples_split': 12, 'min_samples_leaf': 3, 'max_features': 0.86, 'max_depth': 35, 'criterion': 'entropy'}\n",
      "0.4820711606915576\n",
      "Wall time: 24min 58s\n"
     ]
    }
   ],
   "source": [
    "%%time\n",
    "forest = RandomForestClassifier(n_estimators=1000)\n",
    "param_grid = {'max_depth': np.arange(3, 40), 'min_samples_split': np.arange(5, 55), \"min_samples_leaf\": np.arange(1, 10), \"max_features\": np.arange(0.01, 1.0, 0.01), \"criterion\": [\"gini\", \"entropy\"]}\n",
    "\n",
    "forest_cv=RandomizedSearchCV(forest, param_grid, cv=5, random_state=29, n_jobs=-1,scoring=\"f1\")\n",
    "forest_cv.fit(past_nonlin,y)\n",
    "print(forest_cv.best_params_)\n",
    "print(forest_cv.best_score_)"
   ]
  },
  {
   "cell_type": "code",
   "execution_count": 47,
   "metadata": {},
   "outputs": [
    {
     "name": "stdout",
     "output_type": "stream",
     "text": [
      "{'min_samples_split': 33, 'min_samples_leaf': 1, 'max_features': 0.51, 'max_depth': 31, 'criterion': 'gini', 'class_weight': {0: 0.25, 1: 0.75}}\n",
      "0.48918839877771425\n",
      "Wall time: 29min 2s\n"
     ]
    }
   ],
   "source": [
    "%%time\n",
    "forest1 = RandomForestClassifier(n_estimators=1000)\n",
    "param_grid = {'max_depth': np.arange(3,55 ), 'min_samples_split': np.arange(5, 55), \"min_samples_leaf\": np.arange(1, 10), \"max_features\": np.arange(0.01, 1.0, 0.01), \"criterion\": [\"gini\", \"entropy\"],\"class_weight\":[{0:0.45,1:0.55},{0:0.35,1:0.65},{0:0.4,1:0.6},{0:0.25,1:0.75}]}\n",
    "\n",
    "forest1_cv=RandomizedSearchCV(forest1, param_grid, cv=5, random_state=29, n_jobs=-1,scoring=\"f1\")\n",
    "forest1_cv.fit(past_nonlin,y)\n",
    "print(forest1_cv.best_params_)\n",
    "print(forest1_cv.best_score_)"
   ]
  },
  {
   "cell_type": "markdown",
   "metadata": {},
   "source": [
    "## DECISION TREE MODEL"
   ]
  },
  {
   "cell_type": "code",
   "execution_count": 48,
   "metadata": {},
   "outputs": [
    {
     "name": "stdout",
     "output_type": "stream",
     "text": [
      "{'min_samples_split': 29, 'min_samples_leaf': 4, 'max_features': 0.75, 'max_depth': 13, 'criterion': 'entropy', 'class_weight': {0: 0.35, 1: 0.65}}\n",
      "0.472639250857466\n",
      "Wall time: 7.61 s\n"
     ]
    }
   ],
   "source": [
    "%%time\n",
    "dt = DecisionTreeClassifier()\n",
    "param_grid = {'max_depth': np.arange(3, 40), 'min_samples_split': np.arange(5, 55), \"min_samples_leaf\": np.arange(1, 10), \"max_features\": np.arange(0.01, 1.0, 0.01), \"criterion\": [\"gini\", \"entropy\"],\"class_weight\":[{0:0.25,1:0.75},{0:0.35,1:0.65},{0:0.3,1:0.7},{0:0.25,1:0.75}]}\n",
    "\n",
    "dt_cv=RandomizedSearchCV(dt, param_grid, cv=5, random_state=29, n_jobs=-1,scoring=\"f1\")\n",
    "dt_cv.fit(past_nonlin,y)\n",
    "print(dt_cv.best_params_)\n",
    "print(dt_cv.best_score_)"
   ]
  },
  {
   "cell_type": "markdown",
   "metadata": {},
   "source": [
    "## K-NEAREST NEIGHBOURS APPROACH"
   ]
  },
  {
   "cell_type": "code",
   "execution_count": 49,
   "metadata": {},
   "outputs": [
    {
     "name": "stdout",
     "output_type": "stream",
     "text": [
      "{'n_neighbors': 2, 'weights': 'distance'}\n",
      "0.25311098700324086\n",
      "Wall time: 15min 56s\n"
     ]
    }
   ],
   "source": [
    "%%time\n",
    "knn = KNeighborsClassifier()\n",
    "param_grid = {'n_neighbors': np.arange(2,30,2),\"weights\":[\"distance\",\"uniform\"]}\n",
    "# logreg_cv=RandomizedSearchCV(logreg, param_grid, cv=5, scoring='f1', random_state=29)\n",
    "knn_cv=GridSearchCV(knn, param_grid, cv=5, n_jobs=-1,scoring=\"f1\")\n",
    "knn_cv.fit(past_lin, y)\n",
    "print(knn_cv.best_params_)\n",
    "print(knn_cv.best_score_)"
   ]
  },
  {
   "cell_type": "markdown",
   "metadata": {},
   "source": [
    "## Ensembling Methods"
   ]
  },
  {
   "cell_type": "code",
   "execution_count": 86,
   "metadata": {},
   "outputs": [],
   "source": [
    "X_train, X_test, Y_train, Y_test = train_test_split(past_nonlin, y, test_size=0.3, random_state=2990)"
   ]
  },
  {
   "cell_type": "markdown",
   "metadata": {},
   "source": [
    "### ADA BOOST "
   ]
  },
  {
   "cell_type": "code",
   "execution_count": 56,
   "metadata": {},
   "outputs": [
    {
     "name": "stdout",
     "output_type": "stream",
     "text": [
      "Test set score of ADAboost model: 0.39\n",
      "Wall time: 1min 36s\n"
     ]
    }
   ],
   "source": [
    "%%time\n",
    "dt = DecisionTreeClassifier(random_state=450, max_depth=13,\n",
    "    min_samples_split=29,\n",
    "    min_samples_leaf=4,\n",
    "    min_weight_fraction_leaf=0.0,\n",
    "    max_features=0.75,\n",
    "    max_leaf_nodes=None,\n",
    "    min_impurity_decrease=0.0,\n",
    "    min_impurity_split=None,\n",
    "    class_weight={0:0.35,1:0.65},criterion=\"entropy\")\n",
    "ada = AdaBoostClassifier(base_estimator=dt, n_estimators=1300, random_state=450)\n",
    "ada.fit(X_train, Y_train)\n",
    "y_pred = ada.predict(X_test)\n",
    "# Evaluate acc_test\n",
    "score_test = f1_score(Y_test, y_pred)\n",
    "print(score_test) "
   ]
  },
  {
   "cell_type": "markdown",
   "metadata": {},
   "source": [
    "## FINAL MODEL"
   ]
  },
  {
   "cell_type": "markdown",
   "metadata": {},
   "source": [
    "### BAGGING CLASSIFIER "
   ]
  },
  {
   "cell_type": "code",
   "execution_count": 96,
   "metadata": {},
   "outputs": [
    {
     "name": "stdout",
     "output_type": "stream",
     "text": [
      "0.5205306380290587\n",
      "[0 0 0 ... 0 0 0]\n",
      "Wall time: 1min 59s\n"
     ]
    }
   ],
   "source": [
    "%%time\n",
    "dt = DecisionTreeClassifier(random_state=166, max_depth=13,\n",
    "    min_samples_split=29,\n",
    "    min_samples_leaf=4,\n",
    "    min_weight_fraction_leaf=0.0,\n",
    "    max_features=0.75,\n",
    "    max_leaf_nodes=None,\n",
    "    min_impurity_decrease=0.0,\n",
    "    min_impurity_split=None,\n",
    "    class_weight={0:0.35,1:0.65},criterion=\"entropy\")\n",
    "bc = BaggingClassifier(base_estimator=dt, n_estimators=1500, random_state=166)\n",
    "bc.fit(X_train, Y_train)\n",
    "# Predict test set labels\n",
    "y_pred = bc.predict(X_test)\n",
    "# Evaluate acc_test\n",
    "score_test = f1_score(Y_test, y_pred)\n",
    "print(score_test) \n",
    "Mansi_fut=bc.predict(fut_nonlin)\n",
    "print(Mansi_fut)"
   ]
  },
  {
   "cell_type": "code",
   "execution_count": 97,
   "metadata": {},
   "outputs": [],
   "source": [
    "dt = DecisionTreeClassifier(random_state=166, max_depth=13,\n",
    "    min_samples_split=29,\n",
    "    min_samples_leaf=4,\n",
    "    min_weight_fraction_leaf=0.0,\n",
    "    max_features=0.75,\n",
    "    max_leaf_nodes=None,\n",
    "    min_impurity_decrease=0.0,\n",
    "    min_impurity_split=None,\n",
    "    class_weight={0:0.35,1:0.65},criterion=\"entropy\")"
   ]
  },
  {
   "cell_type": "code",
   "execution_count": 98,
   "metadata": {},
   "outputs": [
    {
     "name": "stdout",
     "output_type": "stream",
     "text": [
      "0.5205306380290587\n"
     ]
    }
   ],
   "source": [
    "bc = BaggingClassifier(base_estimator=dt, n_estimators=1500, random_state=166)\n",
    "bc.fit(X_train, Y_train)\n",
    "# Predict test set labels\n",
    "y_pred = bc.predict(X_test)\n",
    "# Evaluate acc_test\n",
    "score_test = f1_score(Y_test, y_pred)\n",
    "print(score_test) "
   ]
  },
  {
   "cell_type": "code",
   "execution_count": 102,
   "metadata": {},
   "outputs": [
    {
     "data": {
      "text/plain": [
       "array([0, 0, 0, ..., 0, 0, 0], dtype=int64)"
      ]
     },
     "execution_count": 102,
     "metadata": {},
     "output_type": "execute_result"
    }
   ],
   "source": [
    "Mansi_fut=bc.predict(fut_nonlin)\n",
    "Mansi_fut"
   ]
  },
  {
   "cell_type": "markdown",
   "metadata": {},
   "source": [
    "# THANK YOU"
   ]
  }
 ],
 "metadata": {
  "kernelspec": {
   "display_name": "Python 3",
   "language": "python",
   "name": "python3"
  },
  "language_info": {
   "codemirror_mode": {
    "name": "ipython",
    "version": 3
   },
   "file_extension": ".py",
   "mimetype": "text/x-python",
   "name": "python",
   "nbconvert_exporter": "python",
   "pygments_lexer": "ipython3",
   "version": "3.7.3"
  }
 },
 "nbformat": 4,
 "nbformat_minor": 2
}
